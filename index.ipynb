{
 "cells": [
  {
   "cell_type": "markdown",
   "metadata": {},
   "source": [
    "# Machine Learning (ipynb)"
   ]
  },
  {
   "cell_type": "code",
   "execution_count": 1,
   "metadata": {
    "collapsed": false
   },
   "outputs": [
    {
     "data": {
      "text/plain": [
       "matrix([[2],\n",
       "        [4],\n",
       "        [6],\n",
       "        [8]])"
      ]
     },
     "execution_count": 1,
     "metadata": {},
     "output_type": "execute_result"
    }
   ],
   "source": [
    "import numpy\n",
    " \n",
    "#  Creating a 4x2 Matrix\n",
    "A = numpy.matrix([[1, 2],\n",
    "                 [3, 4],\n",
    "                 [5, 6],\n",
    "                 [7, 8]])\n",
    " \n",
    "# Accessing Item in Matrix\n",
    "A[2, 1] #==&gt; 6\n",
    " \n",
    "# Accessing Row Vector in Matrix\n",
    "A[2, :] #==&gt; matrix([[5, 6]])\n",
    " \n",
    "# Accessing Col Vector in Matrix\n",
    "A[:, 1] #==&gt; matrix([[2],\n",
    "        #            [4],\n",
    "        #            [6],\n",
    "        #            [8]])"
   ]
  },
  {
   "cell_type": "code",
   "execution_count": null,
   "metadata": {
    "collapsed": true
   },
   "outputs": [],
   "source": []
  }
 ],
 "metadata": {
  "kernelspec": {
   "display_name": "Python 2",
   "language": "python",
   "name": "python2"
  },
  "language_info": {
   "codemirror_mode": {
    "name": "ipython",
    "version": 2
   },
   "file_extension": ".py",
   "mimetype": "text/x-python",
   "name": "python",
   "nbconvert_exporter": "python",
   "pygments_lexer": "ipython2",
   "version": "2.7.11"
  }
 },
 "nbformat": 4,
 "nbformat_minor": 0
}
