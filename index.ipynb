{
 "cells": [
  {
   "cell_type": "raw",
   "metadata": {},
   "source": [
    "---\n",
    "layout: page\n",
    "title: Hypothesis Function\n",
    "permalink: /\n",
    "---"
   ]
  },
  {
   "cell_type": "markdown",
   "metadata": {},
   "source": [
    "  * [Machine Learning](machinelearning)"
   ]
  },
  {
   "cell_type": "markdown",
   "metadata": {},
   "source": [
    "\\begin{align}\n",
    "\\theta_0x_0+\\theta_1x_1+\\theta_2x_2+...+\\theta_nx_n\n",
    "\\end{align}"
   ]
  },
  {
   "cell_type": "code",
   "execution_count": 1,
   "metadata": {
    "collapsed": false
   },
   "outputs": [
    {
     "data": {
      "image/png": "[encoded data removed]",
      "text/plain": [
       "<matplotlib.figure.Figure at 0x10b46fb90>"
      ]
     },
     "metadata": {},
     "output_type": "display_data"
    }
   ],
   "source": [
    "%matplotlib inline\n",
    "\n",
    "import numpy as np\n",
    "import matplotlib.pyplot as plt\n",
    " \n",
    "M = np.matrix([[2104, 460],\n",
    "                  [1416, 232],\n",
    "                  [1534, 315],\n",
    "                  [852, 178]])\n",
    " \n",
    "x = np.asarray(M)[:, 0]\n",
    "y = np.asarray(M)[:, 1]\n",
    " \n",
    "plt.plot(x, y, 'r+')\n",
    "plt.xlabel(\"size in square feet\")\n",
    "plt.ylabel(\"price in thousands of dollars\")\n",
    " \n",
    "# adding ones for our y-intercept parameter\n",
    "x = np.asarray([np.ones(x.shape[0], dtype=np.int), x]).T\n",
    " \n",
    " # create theta params for x, each initialized as 0\n",
    "theta = np.ones(x.shape[0], dtype=np.int) * 0.5\n",
    " \n",
    "# linear regression hypothesis function\n",
    "def hypo(theta, x):\n",
    "    return (x.T * theta).T\n",
    " \n",
    "plt.plot(np.asarray(x[:,1]).T, hypo(theta, x), 'b-');\n",
    " \n",
    "plt.show()"
   ]
  },
  {
   "cell_type": "code",
   "execution_count": null,
   "metadata": {
    "collapsed": true
   },
   "outputs": [],
   "source": []
  }
 ],
 "metadata": {
  "kernelspec": {
   "display_name": "Python 2",
   "language": "python",
   "name": "python2"
  },
  "language_info": {
   "codemirror_mode": {
    "name": "ipython",
    "version": 2
   },
   "file_extension": ".py",
   "mimetype": "text/x-python",
   "name": "python",
   "nbconvert_exporter": "python",
   "pygments_lexer": "ipython2",
   "version": "2.7.11"
  }
 },
 "nbformat": 4,
 "nbformat_minor": 0
}
